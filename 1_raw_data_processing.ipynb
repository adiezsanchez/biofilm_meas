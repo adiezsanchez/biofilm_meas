{
 "cells": [
  {
   "cell_type": "markdown",
   "metadata": {},
   "source": [
    "<h1>Raw Data Processing</h1>\n",
    "\n",
    "The following script processes the raw data as organized below and extract the tilescans containing the stitched images of green biofilm contained under ./data/raw_data:\n",
    "\n",
    "<img src=\"./images/folder_structure.png\" alt=\"folder_structure\" width=\"1200\"/>"
   ]
  },
  {
   "cell_type": "code",
   "execution_count": 1,
   "metadata": {},
   "outputs": [],
   "source": [
    "from pathlib import Path\n",
    "import shutil\n"
   ]
  },
  {
   "cell_type": "code",
   "execution_count": 2,
   "metadata": {},
   "outputs": [],
   "source": [
    "def copy_files_with_path(source_folder, destination_folder):\n",
    "    subdirectories = [\"after_sonication_high\", \"after_sonication_std\", \"before_sonication_std\"]\n",
    "\n",
    "    for subdir in subdirectories:\n",
    "        subdirectory_path = Path(source_folder) / subdir\n",
    "\n",
    "        # Check if the subdirectory exists\n",
    "        if subdirectory_path.exists():\n",
    "            destination_subfolder = Path(destination_folder) / subdir\n",
    "\n",
    "            # Create the destination subfolder if it doesn't exist\n",
    "            destination_subfolder.mkdir(parents=True, exist_ok=True)\n",
    "\n",
    "            for file_path in subdirectory_path.glob(\"**/*.TIF\"):\n",
    "                file_name = file_path.name\n",
    "                if \"TD\" in file_name and \"d1\" in file_name:\n",
    "                    destination_file_path = destination_subfolder / file_name\n",
    "\n",
    "                    # Copy the file to the destination subfolder\n",
    "                    shutil.copy2(file_path, destination_file_path)"
   ]
  },
  {
   "cell_type": "code",
   "execution_count": 3,
   "metadata": {},
   "outputs": [],
   "source": [
    "# Set the source and destination folders\n",
    "source_folder = \"data/raw_data\"\n",
    "destination_folder = \"data/processed\"\n",
    "\n",
    "# Call the function to copy files using Path\n",
    "copy_files_with_path(source_folder, destination_folder)"
   ]
  }
 ],
 "metadata": {
  "kernelspec": {
   "display_name": "napari-devbio",
   "language": "python",
   "name": "python3"
  },
  "language_info": {
   "codemirror_mode": {
    "name": "ipython",
    "version": 3
   },
   "file_extension": ".py",
   "mimetype": "text/x-python",
   "name": "python",
   "nbconvert_exporter": "python",
   "pygments_lexer": "ipython3",
   "version": "3.9.18"
  }
 },
 "nbformat": 4,
 "nbformat_minor": 2
}
