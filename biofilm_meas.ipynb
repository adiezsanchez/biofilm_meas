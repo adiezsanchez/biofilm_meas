{
 "cells": [
  {
   "cell_type": "code",
   "execution_count": 62,
   "metadata": {},
   "outputs": [],
   "source": [
    "from pathlib import Path\n",
    "import tifffile\n",
    "import napari\n",
    "from apoc import ObjectSegmenter, PixelClassifier\n",
    "from skimage import measure\n",
    "import tqdm\n",
    "import pandas as pd\n",
    "import os"
   ]
  },
  {
   "cell_type": "code",
   "execution_count": 39,
   "metadata": {},
   "outputs": [],
   "source": [
    "# Define the directory containing your files\n",
    "directory_path = Path(\"./data/before_sonication/\")\n",
    "\n",
    "# Initialize an empty list to store the images\n",
    "images = []\n",
    "\n",
    "# Iterate through the files in the directory\n",
    "for file_path in directory_path.glob('*.TIF'):\n",
    "    \n",
    "    # Append the file to the corresponding group\n",
    "    images.append(str(file_path))"
   ]
  },
  {
   "cell_type": "code",
   "execution_count": 40,
   "metadata": {},
   "outputs": [
    {
     "name": "stdout",
     "output_type": "stream",
     "text": [
      "data\\before_sonication\\plate 1_Top Slide_TD_p00_0_A01f00d1.TIF\n",
      "data\\before_sonication\\plate 2_Top Slide_TD_p00_0_A02f00d1.TIF\n",
      "data\\before_sonication\\plate 3_Top Slide_TD_p00_0_A03f00d1.TIF\n"
     ]
    }
   ],
   "source": [
    "# This is just a check, it prints the image filepaths contained in images\n",
    "for filepath in images:\n",
    "    print(filepath)"
   ]
  },
  {
   "cell_type": "code",
   "execution_count": 21,
   "metadata": {},
   "outputs": [
    {
     "data": {
      "text/plain": [
       "<Image layer 'Biofilm' at 0x21a09bb7fd0>"
      ]
     },
     "execution_count": 21,
     "metadata": {},
     "output_type": "execute_result"
    }
   ],
   "source": [
    "# Load one RGB image and extract the green channel for APOC\n",
    "rgb_img = tifffile.imread(images[5], is_ome = False)\n",
    "\n",
    "# Extract green channel [1]\n",
    "img = rgb_img[:,:,1]\n",
    "\n",
    "# Visualize greyscale green channel in napari\n",
    "viewer = napari.Viewer(ndisplay=2)\n",
    "viewer.add_image(img, name=\"Biofilm\")"
   ]
  },
  {
   "cell_type": "code",
   "execution_count": 22,
   "metadata": {},
   "outputs": [
    {
     "data": {
      "text/plain": [
       "<Labels layer 'Biofilm_objects' at 0x21a092eab20>"
      ]
     },
     "execution_count": 22,
     "metadata": {},
     "output_type": "execute_result"
    }
   ],
   "source": [
    "# Apply pretrained object segmenter from APOC\n",
    "object_segmenter = ObjectSegmenter(opencl_filename=\"./pretrained_classifiers/ObjectSegmenter.cl\")\n",
    "obj_seg_result = object_segmenter.predict(image=img)\n",
    "viewer.add_labels(obj_seg_result, name=\"Biofilm_objects\")"
   ]
  },
  {
   "cell_type": "code",
   "execution_count": 26,
   "metadata": {},
   "outputs": [
    {
     "data": {
      "text/plain": [
       "<Labels layer 'Biofilm_layer' at 0x21a082a2af0>"
      ]
     },
     "execution_count": 26,
     "metadata": {},
     "output_type": "execute_result"
    }
   ],
   "source": [
    "# Apply pretrained semantic segmenter from APOC\n",
    "semantic_segmenter = PixelClassifier(opencl_filename=\"./pretrained_classifiers/PixelClassifier.cl\")\n",
    "sem_seg_result = semantic_segmenter.predict(image=img)\n",
    "viewer.add_labels(sem_seg_result, name=\"Biofilm_layer\")"
   ]
  },
  {
   "cell_type": "code",
   "execution_count": 32,
   "metadata": {},
   "outputs": [
    {
     "name": "stdout",
     "output_type": "stream",
     "text": [
      "Background: 11975417.0 pixels, Biofilm: 547135.0 pixels\n"
     ]
    }
   ],
   "source": [
    "# Calculate the area covered by the biofilm\n",
    "props = measure.regionprops(sem_seg_result) # Calculate the background and biofilm area\n",
    "\n",
    "# Extract area values\n",
    "area_values = [prop.area for prop in props]\n",
    "\n",
    "print(f\"Background: {area_values[0]} pixels, Biofilm: {area_values[1]} pixels\")"
   ]
  },
  {
   "cell_type": "code",
   "execution_count": 56,
   "metadata": {},
   "outputs": [
    {
     "name": "stdout",
     "output_type": "stream",
     "text": [
      "Filename: plate 1_Top Slide_TD_p00_0_A01f00d1 Background: 8013722.0 pixels, Biofilm: 336742.0 pixels\n",
      "Filename: plate 2_Top Slide_TD_p00_0_A02f00d1 Background: 12063260.0 pixels, Biofilm: 459292.0 pixels\n",
      "Filename: plate 3_Top Slide_TD_p00_0_A03f00d1 Background: 7859379.0 pixels, Biofilm: 491085.0 pixels\n"
     ]
    },
    {
     "data": {
      "text/plain": [
       "{'plate 1_Top Slide_TD_p00_0_A01f00d1': 336742.0,\n",
       " 'plate 2_Top Slide_TD_p00_0_A02f00d1': 459292.0,\n",
       " 'plate 3_Top Slide_TD_p00_0_A03f00d1': 491085.0}"
      ]
     },
     "execution_count": 56,
     "metadata": {},
     "output_type": "execute_result"
    }
   ],
   "source": [
    "# Create an empty dictionary to store filename:biofilm_area pairs and later convert it into a pandas df\n",
    "biofilm_areas = {}\n",
    "\n",
    "# Initialize Napari viewer instance\n",
    "viewer = napari.Viewer(ndisplay=2)\n",
    "\n",
    "for filepath in images:\n",
    "    # Get the filename without the extension\n",
    "    filename = Path(filepath).stem\n",
    "    \n",
    "    # Load one RGB image and extract the green channel for APOC\n",
    "    rgb_img = tifffile.imread(filepath, is_ome = False)\n",
    "\n",
    "    # Extract green channel [1]\n",
    "    img = rgb_img[:,:,1]\n",
    "\n",
    "    # Visualize greyscale green channel in napari\n",
    "    viewer.add_image(img, name=f\"Biofilm_{filename}\")\n",
    "    \n",
    "    # Apply pretrained object segmenter from APOC\n",
    "    object_segmenter = ObjectSegmenter(opencl_filename=\"./pretrained_classifiers/ObjectSegmenter.cl\")\n",
    "    obj_seg_result = object_segmenter.predict(image=img)\n",
    "    viewer.add_labels(obj_seg_result, name=f\"Biofilm_objects_{filename}\")\n",
    "    \n",
    "    # Apply pretrained semantic segmenter from APOC\n",
    "    semantic_segmenter = PixelClassifier(opencl_filename=\"./pretrained_classifiers/PixelClassifier.cl\")\n",
    "    sem_seg_result = semantic_segmenter.predict(image=img)\n",
    "    viewer.add_labels(sem_seg_result, name=f\"Biofilm_layer_{filename}\")\n",
    "    \n",
    "    # Calculate the area covered by the biofilm\n",
    "    props = measure.regionprops(sem_seg_result) # Calculate the background and biofilm area\n",
    "    \n",
    "    # Extract area values\n",
    "    area_values = [prop.area for prop in props]\n",
    "    \n",
    "    # Testing purposes\n",
    "    print(f\"Filename: {filename} Background: {area_values[0]} pixels, Biofilm: {area_values[1]} pixels\")\n",
    "    \n",
    "    # Add new filename:biofilm_area pair to biofilm_areas\n",
    "    biofilm_areas[filename] = area_values[1]\n"
   ]
  },
  {
   "cell_type": "code",
   "execution_count": 63,
   "metadata": {},
   "outputs": [
    {
     "name": "stdout",
     "output_type": "stream",
     "text": [
      "Output folder already exists: ./output/\n"
     ]
    },
    {
     "data": {
      "text/html": [
       "<div>\n",
       "<style scoped>\n",
       "    .dataframe tbody tr th:only-of-type {\n",
       "        vertical-align: middle;\n",
       "    }\n",
       "\n",
       "    .dataframe tbody tr th {\n",
       "        vertical-align: top;\n",
       "    }\n",
       "\n",
       "    .dataframe thead th {\n",
       "        text-align: right;\n",
       "    }\n",
       "</style>\n",
       "<table border=\"1\" class=\"dataframe\">\n",
       "  <thead>\n",
       "    <tr style=\"text-align: right;\">\n",
       "      <th></th>\n",
       "      <th>filename</th>\n",
       "      <th>biofilm_area</th>\n",
       "    </tr>\n",
       "  </thead>\n",
       "  <tbody>\n",
       "    <tr>\n",
       "      <th>0</th>\n",
       "      <td>plate 1_Top Slide_TD_p00_0_A01f00d1</td>\n",
       "      <td>336742.0</td>\n",
       "    </tr>\n",
       "    <tr>\n",
       "      <th>1</th>\n",
       "      <td>plate 2_Top Slide_TD_p00_0_A02f00d1</td>\n",
       "      <td>459292.0</td>\n",
       "    </tr>\n",
       "    <tr>\n",
       "      <th>2</th>\n",
       "      <td>plate 3_Top Slide_TD_p00_0_A03f00d1</td>\n",
       "      <td>491085.0</td>\n",
       "    </tr>\n",
       "  </tbody>\n",
       "</table>\n",
       "</div>"
      ],
      "text/plain": [
       "                              filename  biofilm_area\n",
       "0  plate 1_Top Slide_TD_p00_0_A01f00d1      336742.0\n",
       "1  plate 2_Top Slide_TD_p00_0_A02f00d1      459292.0\n",
       "2  plate 3_Top Slide_TD_p00_0_A03f00d1      491085.0"
      ]
     },
     "execution_count": 63,
     "metadata": {},
     "output_type": "execute_result"
    }
   ],
   "source": [
    "# Convert dictionary to pandas DataFrame\n",
    "df = pd.DataFrame(list(biofilm_areas.items()), columns=['filename', 'biofilm_area'])\n",
    "\n",
    "# Define the output folder path\n",
    "output_folder = './output/'\n",
    "\n",
    "# Check if the output folder exists, create it if not\n",
    "try:\n",
    "    os.makedirs(output_folder)\n",
    "    print(f\"Output folder created: {output_folder}\")\n",
    "except FileExistsError:\n",
    "    print(f\"Output folder already exists: {output_folder}\")\n",
    "\n",
    "# Save the DataFrame to a CSV file in the output folder\n",
    "df.to_csv(os.path.join(output_folder, 'biofilm_areas.csv'), index=False)\n",
    "\n",
    "# Display the resulting dataframe\n",
    "df"
   ]
  }
 ],
 "metadata": {
  "kernelspec": {
   "display_name": "napari-devbio",
   "language": "python",
   "name": "python3"
  },
  "language_info": {
   "codemirror_mode": {
    "name": "ipython",
    "version": 3
   },
   "file_extension": ".py",
   "mimetype": "text/x-python",
   "name": "python",
   "nbconvert_exporter": "python",
   "pygments_lexer": "ipython3",
   "version": "3.9.18"
  }
 },
 "nbformat": 4,
 "nbformat_minor": 2
}
