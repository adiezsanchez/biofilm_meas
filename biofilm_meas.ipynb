{
 "cells": [
  {
   "cell_type": "code",
   "execution_count": 64,
   "metadata": {},
   "outputs": [],
   "source": [
    "from pathlib import Path\n",
    "import tifffile\n",
    "import napari\n",
    "from apoc import ObjectSegmenter, PixelClassifier\n",
    "from skimage import measure\n",
    "import pandas as pd\n",
    "import os"
   ]
  },
  {
   "cell_type": "code",
   "execution_count": 65,
   "metadata": {},
   "outputs": [],
   "source": [
    "# Define the directory containing your files\n",
    "directory_path = Path(\"./data/before_sonication/\")\n",
    "\n",
    "# Initialize an empty list to store the images\n",
    "images = []\n",
    "\n",
    "# Iterate through the files in the directory\n",
    "for file_path in directory_path.glob('*.TIF'):\n",
    "    \n",
    "    # Append the file to the corresponding group\n",
    "    images.append(str(file_path))"
   ]
  },
  {
   "cell_type": "code",
   "execution_count": 66,
   "metadata": {},
   "outputs": [
    {
     "name": "stdout",
     "output_type": "stream",
     "text": [
      "data\\before_sonication\\plate 10_Top Slide_TD_p00_0_A02f00d1.TIF\n",
      "data\\before_sonication\\plate 11_Top Slide_TD_p00_0_A03f00d1.TIF\n",
      "data\\before_sonication\\plate 12_Top Slide_TD_p00_0_A04f00d1.TIF\n",
      "data\\before_sonication\\plate 13_Top Slide_TD_p00_0_B01f00d1.TIF\n",
      "data\\before_sonication\\plate 14_Top Slide_TD_p00_0_B02f00d1.TIF\n",
      "data\\before_sonication\\plate 15_Top Slide_TD_p00_0_B03f00d1.TIF\n",
      "data\\before_sonication\\plate 16_Top Slide_TD_p00_0_B04f00d1.TIF\n",
      "data\\before_sonication\\plate 17_Top Slide_TD_p00_0_A01f00d1.TIF\n",
      "data\\before_sonication\\plate 18_Top Slide_TD_p00_0_A02f00d1.TIF\n",
      "data\\before_sonication\\plate 19_Top Slide_TD_p00_0_A03f00d1.TIF\n",
      "data\\before_sonication\\plate 1_Top Slide_TD_p00_0_A01f00d1.TIF\n",
      "data\\before_sonication\\plate 20_Top Slide_TD_p00_0_A04f00d1.TIF\n",
      "data\\before_sonication\\plate 21_Top Slide_TD_p00_0_B01f00d1.TIF\n",
      "data\\before_sonication\\plate 22_Top Slide_TD_p00_0_B02f00d1.TIF\n",
      "data\\before_sonication\\plate 23_Top Slide_TD_p00_0_B03f00d1.TIF\n",
      "data\\before_sonication\\plate 24_Top Slide_TD_p00_0_B04f00d1.TIF\n",
      "data\\before_sonication\\plate 25_Top Slide_TD_p00_0_A01f00d1.TIF\n",
      "data\\before_sonication\\plate 26_Top Slide_TD_p00_0_A02f00d1.TIF\n",
      "data\\before_sonication\\plate 27_Top Slide_TD_p00_0_A03f00d1.TIF\n",
      "data\\before_sonication\\plate 28_Top Slide_TD_p00_0_A04f00d1.TIF\n",
      "data\\before_sonication\\plate 2_Top Slide_TD_p00_0_A02f00d1.TIF\n",
      "data\\before_sonication\\plate 3_Top Slide_TD_p00_0_A03f00d1.TIF\n",
      "data\\before_sonication\\plate 4_Top Slide_TD_p00_0_A04f00d1.TIF\n",
      "data\\before_sonication\\plate 5_Top Slide_TD_p00_0_B01f00d1.TIF\n",
      "data\\before_sonication\\plate 6_Top Slide_TD_p00_0_B02f00d1.TIF\n",
      "data\\before_sonication\\plate 7_Top Slide_TD_p00_0_B03f00d1.TIF\n",
      "data\\before_sonication\\plate 8_Top Slide_TD_p00_0_B04f00d1.TIF\n",
      "data\\before_sonication\\plate 9_Top Slide_TD_p00_0_A01f00d1.TIF\n"
     ]
    }
   ],
   "source": [
    "# This is just a check, it prints the image filepaths contained in images\n",
    "for filepath in images:\n",
    "    print(filepath)"
   ]
  },
  {
   "cell_type": "code",
   "execution_count": 67,
   "metadata": {},
   "outputs": [
    {
     "name": "stdout",
     "output_type": "stream",
     "text": [
      "Filename: plate 10_Top Slide_TD_p00_0_A02f00d1 Background: 11401208.0 pixels, Biofilm: 1121344.0 pixels\n",
      "Filename: plate 11_Top Slide_TD_p00_0_A03f00d1 Background: 12149476.0 pixels, Biofilm: 373076.0 pixels\n",
      "Filename: plate 12_Top Slide_TD_p00_0_A04f00d1 Background: 11733624.0 pixels, Biofilm: 788928.0 pixels\n",
      "Filename: plate 13_Top Slide_TD_p00_0_B01f00d1 Background: 12103655.0 pixels, Biofilm: 418897.0 pixels\n",
      "Filename: plate 14_Top Slide_TD_p00_0_B02f00d1 Background: 11553813.0 pixels, Biofilm: 968739.0 pixels\n",
      "Filename: plate 15_Top Slide_TD_p00_0_B03f00d1 Background: 11975417.0 pixels, Biofilm: 547135.0 pixels\n",
      "Filename: plate 16_Top Slide_TD_p00_0_B04f00d1 Background: 12208637.0 pixels, Biofilm: 313915.0 pixels\n",
      "Filename: plate 17_Top Slide_TD_p00_0_A01f00d1 Background: 7472772.0 pixels, Biofilm: 877692.0 pixels\n",
      "Filename: plate 18_Top Slide_TD_p00_0_A02f00d1 Background: 12120170.0 pixels, Biofilm: 402382.0 pixels\n",
      "Filename: plate 19_Top Slide_TD_p00_0_A03f00d1 Background: 12099344.0 pixels, Biofilm: 423208.0 pixels\n",
      "Filename: plate 1_Top Slide_TD_p00_0_A01f00d1 Background: 8013722.0 pixels, Biofilm: 336742.0 pixels\n",
      "Filename: plate 20_Top Slide_TD_p00_0_A04f00d1 Background: 11893102.0 pixels, Biofilm: 629450.0 pixels\n",
      "Filename: plate 21_Top Slide_TD_p00_0_B01f00d1 Background: 11842972.0 pixels, Biofilm: 679580.0 pixels\n",
      "Filename: plate 22_Top Slide_TD_p00_0_B02f00d1 Background: 11712124.0 pixels, Biofilm: 810428.0 pixels\n",
      "Filename: plate 23_Top Slide_TD_p00_0_B03f00d1 Background: 12380967.0 pixels, Biofilm: 141585.0 pixels\n",
      "Filename: plate 24_Top Slide_TD_p00_0_B04f00d1 Background: 12019044.0 pixels, Biofilm: 503508.0 pixels\n",
      "Filename: plate 25_Top Slide_TD_p00_0_A01f00d1 Background: 12354092.0 pixels, Biofilm: 168460.0 pixels\n",
      "Filename: plate 26_Top Slide_TD_p00_0_A02f00d1 Background: 12172054.0 pixels, Biofilm: 353642.0 pixels\n",
      "Filename: plate 27_Top Slide_TD_p00_0_A03f00d1 Background: 12057445.0 pixels, Biofilm: 465107.0 pixels\n",
      "Filename: plate 28_Top Slide_TD_p00_0_A04f00d1 Background: 11901012.0 pixels, Biofilm: 621540.0 pixels\n",
      "Filename: plate 2_Top Slide_TD_p00_0_A02f00d1 Background: 12063260.0 pixels, Biofilm: 459292.0 pixels\n",
      "Filename: plate 3_Top Slide_TD_p00_0_A03f00d1 Background: 7859379.0 pixels, Biofilm: 491085.0 pixels\n",
      "Filename: plate 4_Top Slide_TD_p00_0_A04f00d1 Background: 12261775.0 pixels, Biofilm: 260777.0 pixels\n",
      "Filename: plate 5_Top Slide_TD_p00_0_B01f00d1 Background: 7925962.0 pixels, Biofilm: 424502.0 pixels\n",
      "Filename: plate 6_Top Slide_TD_p00_0_B02f00d1 Background: 11726713.0 pixels, Biofilm: 795839.0 pixels\n",
      "Filename: plate 7_Top Slide_TD_p00_0_B03f00d1 Background: 12160234.0 pixels, Biofilm: 362318.0 pixels\n",
      "Filename: plate 8_Top Slide_TD_p00_0_B04f00d1 Background: 11942521.0 pixels, Biofilm: 580031.0 pixels\n",
      "Filename: plate 9_Top Slide_TD_p00_0_A01f00d1 Background: 12310733.0 pixels, Biofilm: 211819.0 pixels\n"
     ]
    }
   ],
   "source": [
    "# Create an empty dictionary to store filename:biofilm_area pairs and later convert it into a pandas df\n",
    "biofilm_areas = {}\n",
    "\n",
    "# Initialize Napari viewer instance\n",
    "viewer = napari.Viewer(ndisplay=2)\n",
    "\n",
    "for filepath in images:\n",
    "    # Get the filename without the extension\n",
    "    filename = Path(filepath).stem\n",
    "    \n",
    "    # Load one RGB image and extract the green channel for APOC\n",
    "    rgb_img = tifffile.imread(filepath, is_ome = False)\n",
    "\n",
    "    # Extract green channel [1]\n",
    "    img = rgb_img[:,:,1]\n",
    "\n",
    "    # Visualize greyscale green channel in napari\n",
    "    viewer.add_image(img, name=f\"Biofilm_{filename}\")\n",
    "    \n",
    "    # Apply pretrained object segmenter from APOC\n",
    "    # object_segmenter = ObjectSegmenter(opencl_filename=\"./pretrained_classifiers/ObjectSegmenter.cl\")\n",
    "    # obj_seg_result = object_segmenter.predict(image=img)\n",
    "    # viewer.add_labels(obj_seg_result, name=f\"Biofilm_objects_{filename}\")\n",
    "    \n",
    "    # Apply pretrained semantic segmenter from APOC\n",
    "    semantic_segmenter = PixelClassifier(opencl_filename=\"./pretrained_classifiers/PixelClassifier.cl\")\n",
    "    sem_seg_result = semantic_segmenter.predict(image=img)\n",
    "    viewer.add_labels(sem_seg_result, name=f\"Biofilm_layer_{filename}\")\n",
    "    \n",
    "    # Calculate the area covered by the biofilm\n",
    "    props = measure.regionprops(sem_seg_result) # Calculate the background and biofilm area\n",
    "    \n",
    "    # Extract area values\n",
    "    area_values = [prop.area for prop in props]\n",
    "    \n",
    "    # Testing purposes\n",
    "    print(f\"Filename: {filename} Background: {area_values[0]} pixels, Biofilm: {area_values[1]} pixels\")\n",
    "    \n",
    "    # Add new filename:biofilm_area pair to biofilm_areas\n",
    "    biofilm_areas[filename] = area_values[1]\n"
   ]
  },
  {
   "cell_type": "code",
   "execution_count": 68,
   "metadata": {},
   "outputs": [
    {
     "name": "stdout",
     "output_type": "stream",
     "text": [
      "Output folder created: ./output/\n"
     ]
    },
    {
     "data": {
      "text/html": [
       "<div>\n",
       "<style scoped>\n",
       "    .dataframe tbody tr th:only-of-type {\n",
       "        vertical-align: middle;\n",
       "    }\n",
       "\n",
       "    .dataframe tbody tr th {\n",
       "        vertical-align: top;\n",
       "    }\n",
       "\n",
       "    .dataframe thead th {\n",
       "        text-align: right;\n",
       "    }\n",
       "</style>\n",
       "<table border=\"1\" class=\"dataframe\">\n",
       "  <thead>\n",
       "    <tr style=\"text-align: right;\">\n",
       "      <th></th>\n",
       "      <th>filename</th>\n",
       "      <th>biofilm_area</th>\n",
       "    </tr>\n",
       "  </thead>\n",
       "  <tbody>\n",
       "    <tr>\n",
       "      <th>0</th>\n",
       "      <td>plate 10_Top Slide_TD_p00_0_A02f00d1</td>\n",
       "      <td>1121344.0</td>\n",
       "    </tr>\n",
       "    <tr>\n",
       "      <th>1</th>\n",
       "      <td>plate 11_Top Slide_TD_p00_0_A03f00d1</td>\n",
       "      <td>373076.0</td>\n",
       "    </tr>\n",
       "    <tr>\n",
       "      <th>2</th>\n",
       "      <td>plate 12_Top Slide_TD_p00_0_A04f00d1</td>\n",
       "      <td>788928.0</td>\n",
       "    </tr>\n",
       "    <tr>\n",
       "      <th>3</th>\n",
       "      <td>plate 13_Top Slide_TD_p00_0_B01f00d1</td>\n",
       "      <td>418897.0</td>\n",
       "    </tr>\n",
       "    <tr>\n",
       "      <th>4</th>\n",
       "      <td>plate 14_Top Slide_TD_p00_0_B02f00d1</td>\n",
       "      <td>968739.0</td>\n",
       "    </tr>\n",
       "    <tr>\n",
       "      <th>5</th>\n",
       "      <td>plate 15_Top Slide_TD_p00_0_B03f00d1</td>\n",
       "      <td>547135.0</td>\n",
       "    </tr>\n",
       "    <tr>\n",
       "      <th>6</th>\n",
       "      <td>plate 16_Top Slide_TD_p00_0_B04f00d1</td>\n",
       "      <td>313915.0</td>\n",
       "    </tr>\n",
       "    <tr>\n",
       "      <th>7</th>\n",
       "      <td>plate 17_Top Slide_TD_p00_0_A01f00d1</td>\n",
       "      <td>877692.0</td>\n",
       "    </tr>\n",
       "    <tr>\n",
       "      <th>8</th>\n",
       "      <td>plate 18_Top Slide_TD_p00_0_A02f00d1</td>\n",
       "      <td>402382.0</td>\n",
       "    </tr>\n",
       "    <tr>\n",
       "      <th>9</th>\n",
       "      <td>plate 19_Top Slide_TD_p00_0_A03f00d1</td>\n",
       "      <td>423208.0</td>\n",
       "    </tr>\n",
       "    <tr>\n",
       "      <th>10</th>\n",
       "      <td>plate 1_Top Slide_TD_p00_0_A01f00d1</td>\n",
       "      <td>336742.0</td>\n",
       "    </tr>\n",
       "    <tr>\n",
       "      <th>11</th>\n",
       "      <td>plate 20_Top Slide_TD_p00_0_A04f00d1</td>\n",
       "      <td>629450.0</td>\n",
       "    </tr>\n",
       "    <tr>\n",
       "      <th>12</th>\n",
       "      <td>plate 21_Top Slide_TD_p00_0_B01f00d1</td>\n",
       "      <td>679580.0</td>\n",
       "    </tr>\n",
       "    <tr>\n",
       "      <th>13</th>\n",
       "      <td>plate 22_Top Slide_TD_p00_0_B02f00d1</td>\n",
       "      <td>810428.0</td>\n",
       "    </tr>\n",
       "    <tr>\n",
       "      <th>14</th>\n",
       "      <td>plate 23_Top Slide_TD_p00_0_B03f00d1</td>\n",
       "      <td>141585.0</td>\n",
       "    </tr>\n",
       "    <tr>\n",
       "      <th>15</th>\n",
       "      <td>plate 24_Top Slide_TD_p00_0_B04f00d1</td>\n",
       "      <td>503508.0</td>\n",
       "    </tr>\n",
       "    <tr>\n",
       "      <th>16</th>\n",
       "      <td>plate 25_Top Slide_TD_p00_0_A01f00d1</td>\n",
       "      <td>168460.0</td>\n",
       "    </tr>\n",
       "    <tr>\n",
       "      <th>17</th>\n",
       "      <td>plate 26_Top Slide_TD_p00_0_A02f00d1</td>\n",
       "      <td>353642.0</td>\n",
       "    </tr>\n",
       "    <tr>\n",
       "      <th>18</th>\n",
       "      <td>plate 27_Top Slide_TD_p00_0_A03f00d1</td>\n",
       "      <td>465107.0</td>\n",
       "    </tr>\n",
       "    <tr>\n",
       "      <th>19</th>\n",
       "      <td>plate 28_Top Slide_TD_p00_0_A04f00d1</td>\n",
       "      <td>621540.0</td>\n",
       "    </tr>\n",
       "    <tr>\n",
       "      <th>20</th>\n",
       "      <td>plate 2_Top Slide_TD_p00_0_A02f00d1</td>\n",
       "      <td>459292.0</td>\n",
       "    </tr>\n",
       "    <tr>\n",
       "      <th>21</th>\n",
       "      <td>plate 3_Top Slide_TD_p00_0_A03f00d1</td>\n",
       "      <td>491085.0</td>\n",
       "    </tr>\n",
       "    <tr>\n",
       "      <th>22</th>\n",
       "      <td>plate 4_Top Slide_TD_p00_0_A04f00d1</td>\n",
       "      <td>260777.0</td>\n",
       "    </tr>\n",
       "    <tr>\n",
       "      <th>23</th>\n",
       "      <td>plate 5_Top Slide_TD_p00_0_B01f00d1</td>\n",
       "      <td>424502.0</td>\n",
       "    </tr>\n",
       "    <tr>\n",
       "      <th>24</th>\n",
       "      <td>plate 6_Top Slide_TD_p00_0_B02f00d1</td>\n",
       "      <td>795839.0</td>\n",
       "    </tr>\n",
       "    <tr>\n",
       "      <th>25</th>\n",
       "      <td>plate 7_Top Slide_TD_p00_0_B03f00d1</td>\n",
       "      <td>362318.0</td>\n",
       "    </tr>\n",
       "    <tr>\n",
       "      <th>26</th>\n",
       "      <td>plate 8_Top Slide_TD_p00_0_B04f00d1</td>\n",
       "      <td>580031.0</td>\n",
       "    </tr>\n",
       "    <tr>\n",
       "      <th>27</th>\n",
       "      <td>plate 9_Top Slide_TD_p00_0_A01f00d1</td>\n",
       "      <td>211819.0</td>\n",
       "    </tr>\n",
       "  </tbody>\n",
       "</table>\n",
       "</div>"
      ],
      "text/plain": [
       "                                filename  biofilm_area\n",
       "0   plate 10_Top Slide_TD_p00_0_A02f00d1     1121344.0\n",
       "1   plate 11_Top Slide_TD_p00_0_A03f00d1      373076.0\n",
       "2   plate 12_Top Slide_TD_p00_0_A04f00d1      788928.0\n",
       "3   plate 13_Top Slide_TD_p00_0_B01f00d1      418897.0\n",
       "4   plate 14_Top Slide_TD_p00_0_B02f00d1      968739.0\n",
       "5   plate 15_Top Slide_TD_p00_0_B03f00d1      547135.0\n",
       "6   plate 16_Top Slide_TD_p00_0_B04f00d1      313915.0\n",
       "7   plate 17_Top Slide_TD_p00_0_A01f00d1      877692.0\n",
       "8   plate 18_Top Slide_TD_p00_0_A02f00d1      402382.0\n",
       "9   plate 19_Top Slide_TD_p00_0_A03f00d1      423208.0\n",
       "10   plate 1_Top Slide_TD_p00_0_A01f00d1      336742.0\n",
       "11  plate 20_Top Slide_TD_p00_0_A04f00d1      629450.0\n",
       "12  plate 21_Top Slide_TD_p00_0_B01f00d1      679580.0\n",
       "13  plate 22_Top Slide_TD_p00_0_B02f00d1      810428.0\n",
       "14  plate 23_Top Slide_TD_p00_0_B03f00d1      141585.0\n",
       "15  plate 24_Top Slide_TD_p00_0_B04f00d1      503508.0\n",
       "16  plate 25_Top Slide_TD_p00_0_A01f00d1      168460.0\n",
       "17  plate 26_Top Slide_TD_p00_0_A02f00d1      353642.0\n",
       "18  plate 27_Top Slide_TD_p00_0_A03f00d1      465107.0\n",
       "19  plate 28_Top Slide_TD_p00_0_A04f00d1      621540.0\n",
       "20   plate 2_Top Slide_TD_p00_0_A02f00d1      459292.0\n",
       "21   plate 3_Top Slide_TD_p00_0_A03f00d1      491085.0\n",
       "22   plate 4_Top Slide_TD_p00_0_A04f00d1      260777.0\n",
       "23   plate 5_Top Slide_TD_p00_0_B01f00d1      424502.0\n",
       "24   plate 6_Top Slide_TD_p00_0_B02f00d1      795839.0\n",
       "25   plate 7_Top Slide_TD_p00_0_B03f00d1      362318.0\n",
       "26   plate 8_Top Slide_TD_p00_0_B04f00d1      580031.0\n",
       "27   plate 9_Top Slide_TD_p00_0_A01f00d1      211819.0"
      ]
     },
     "execution_count": 68,
     "metadata": {},
     "output_type": "execute_result"
    }
   ],
   "source": [
    "# Convert dictionary to pandas DataFrame\n",
    "df = pd.DataFrame(list(biofilm_areas.items()), columns=['filename', 'biofilm_area'])\n",
    "\n",
    "# Define the output folder path\n",
    "output_folder = './output/'\n",
    "\n",
    "# Check if the output folder exists, create it if not\n",
    "try:\n",
    "    os.makedirs(output_folder)\n",
    "    print(f\"Output folder created: {output_folder}\")\n",
    "except FileExistsError:\n",
    "    print(f\"Output folder already exists: {output_folder}\")\n",
    "\n",
    "# Save the DataFrame to a CSV file in the output folder\n",
    "df.to_csv(os.path.join(output_folder, 'biofilm_areas.csv'), index=False)\n",
    "\n",
    "# Display the resulting dataframe\n",
    "df"
   ]
  },
  {
   "cell_type": "markdown",
   "metadata": {},
   "source": [
    "<h1> For development purpose (below) </h1>"
   ]
  },
  {
   "cell_type": "code",
   "execution_count": null,
   "metadata": {},
   "outputs": [
    {
     "data": {
      "text/plain": [
       "<Image layer 'Biofilm' at 0x21a09bb7fd0>"
      ]
     },
     "metadata": {},
     "output_type": "display_data"
    }
   ],
   "source": [
    "# Load one RGB image and extract the green channel for APOC\n",
    "rgb_img = tifffile.imread(images[5], is_ome = False)\n",
    "\n",
    "# Extract green channel [1]\n",
    "img = rgb_img[:,:,1]\n",
    "\n",
    "# Visualize greyscale green channel in napari\n",
    "viewer = napari.Viewer(ndisplay=2)\n",
    "viewer.add_image(img, name=\"Biofilm\")"
   ]
  },
  {
   "cell_type": "code",
   "execution_count": null,
   "metadata": {},
   "outputs": [
    {
     "data": {
      "text/plain": [
       "<Labels layer 'Biofilm_objects' at 0x21a092eab20>"
      ]
     },
     "metadata": {},
     "output_type": "display_data"
    }
   ],
   "source": [
    "# Apply pretrained object segmenter from APOC\n",
    "object_segmenter = ObjectSegmenter(opencl_filename=\"./pretrained_classifiers/ObjectSegmenter.cl\")\n",
    "obj_seg_result = object_segmenter.predict(image=img)\n",
    "viewer.add_labels(obj_seg_result, name=\"Biofilm_objects\")"
   ]
  },
  {
   "cell_type": "code",
   "execution_count": null,
   "metadata": {},
   "outputs": [
    {
     "data": {
      "text/plain": [
       "<Labels layer 'Biofilm_layer' at 0x21a082a2af0>"
      ]
     },
     "metadata": {},
     "output_type": "display_data"
    }
   ],
   "source": [
    "# Apply pretrained semantic segmenter from APOC\n",
    "semantic_segmenter = PixelClassifier(opencl_filename=\"./pretrained_classifiers/PixelClassifier.cl\")\n",
    "sem_seg_result = semantic_segmenter.predict(image=img)\n",
    "viewer.add_labels(sem_seg_result, name=\"Biofilm_layer\")"
   ]
  },
  {
   "cell_type": "code",
   "execution_count": null,
   "metadata": {},
   "outputs": [
    {
     "name": "stdout",
     "output_type": "stream",
     "text": [
      "Background: 11975417.0 pixels, Biofilm: 547135.0 pixels\n"
     ]
    }
   ],
   "source": [
    "# Calculate the area covered by the biofilm\n",
    "props = measure.regionprops(sem_seg_result) # Calculate the background and biofilm area\n",
    "\n",
    "# Extract area values\n",
    "area_values = [prop.area for prop in props]\n",
    "\n",
    "print(f\"Background: {area_values[0]} pixels, Biofilm: {area_values[1]} pixels\")"
   ]
  }
 ],
 "metadata": {
  "kernelspec": {
   "display_name": "napari-devbio",
   "language": "python",
   "name": "python3"
  },
  "language_info": {
   "codemirror_mode": {
    "name": "ipython",
    "version": 3
   },
   "file_extension": ".py",
   "mimetype": "text/x-python",
   "name": "python",
   "nbconvert_exporter": "python",
   "pygments_lexer": "ipython3",
   "version": "3.9.18"
  }
 },
 "nbformat": 4,
 "nbformat_minor": 2
}
